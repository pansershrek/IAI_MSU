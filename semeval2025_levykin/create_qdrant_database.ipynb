{
 "cells": [
  {
   "cell_type": "code",
   "execution_count": 1,
   "metadata": {},
   "outputs": [
    {
     "data": {
      "application/vnd.jupyter.widget-view+json": {
       "model_id": "ccc3c81fdd9e4a8da2c2d4c507d6531c",
       "version_major": 2,
       "version_minor": 0
      },
      "text/plain": [
       "Resolving data files:   0%|          | 0/41 [00:00<?, ?it/s]"
      ]
     },
     "metadata": {},
     "output_type": "display_data"
    },
    {
     "data": {
      "application/vnd.jupyter.widget-view+json": {
       "model_id": "f1cbf09197d7414ebdb5ccfa5edce20c",
       "version_major": 2,
       "version_minor": 0
      },
      "text/plain": [
       "Loading dataset shards:   0%|          | 0/41 [00:00<?, ?it/s]"
      ]
     },
     "metadata": {},
     "output_type": "display_data"
    }
   ],
   "source": [
    "from datasets import load_dataset\n",
    "\n",
    "ds = load_dataset(\"wikimedia/wikipedia\", \"20231101.en\")"
   ]
  },
  {
   "cell_type": "code",
   "execution_count": 2,
   "metadata": {},
   "outputs": [],
   "source": [
    "import torch.nn.functional as F\n",
    "from torch import Tensor\n",
    "from transformers import AutoTokenizer, AutoModel\n",
    "from qdrant_client import QdrantClient\n",
    "from qdrant_client import models\n",
    "import numpy as np\n",
    "\n",
    "\n",
    "client = QdrantClient(url=\"http://10.11.12.134:6333\", timeout=50)\n",
    "#client = QdrantClient(\"http://localhost\", port=6333, grpc_port=6334)\n",
    "\n",
    "COLLECTION_NAME = 'wikipedia_20231101_en_text512_embeddings'\n"
   ]
  },
  {
   "cell_type": "code",
   "execution_count": 11,
   "metadata": {},
   "outputs": [
    {
     "name": "stdout",
     "output_type": "stream",
     "text": [
      "<qdrant_client.qdrant_client.QdrantClient object at 0x7f07eda5cc40>\n"
     ]
    }
   ],
   "source": [
    "print(client)"
   ]
  },
  {
   "cell_type": "code",
   "execution_count": 12,
   "metadata": {},
   "outputs": [
    {
     "data": {
      "text/plain": [
       "True"
      ]
     },
     "execution_count": 12,
     "metadata": {},
     "output_type": "execute_result"
    }
   ],
   "source": [
    "from qdrant_client.models import ScalarQuantization, ScalarQuantizationConfig\n",
    "from qdrant_client import QdrantClient\n",
    "from qdrant_client.models import Distance, VectorParams\n",
    "'''\n",
    "# Получение списка всех коллекций\n",
    "collections = client.get_collections().collections\n",
    "\n",
    "# Удаление всех коллекций\n",
    "for collection in collections:\n",
    "    client.delete_collection(collection.name)\n",
    "    print(f\"Коллекция '{collection.name}' удалена\")\n",
    "'''\n",
    "client.create_collection(\n",
    "    collection_name=COLLECTION_NAME,\n",
    "    vectors_config=VectorParams(\n",
    "                            size=1024,\n",
    "                            distance=Distance.COSINE,\n",
    "                            on_disk=True,\n",
    "                            quantization_config=models.ScalarQuantization(\n",
    "                            scalar=models.ScalarQuantizationConfig(\n",
    "                                type=models.ScalarType.INT8,\n",
    "                            ),\n",
    "                            )\n",
    "                        ),\n",
    "    optimizers_config=models.OptimizersConfigDiff(memmap_threshold=20000),\n",
    "    hnsw_config=models.HnswConfigDiff(on_disk=True),\n",
    "    on_disk_payload=True,\n",
    "\n",
    ")\n"
   ]
  },
  {
   "cell_type": "code",
   "execution_count": 18,
   "metadata": {},
   "outputs": [
    {
     "name": "stderr",
     "output_type": "stream",
     "text": [
      "3203072it [1:42:33, 520.49it/s]\n"
     ]
    }
   ],
   "source": [
    "import json\n",
    "import tqdm\n",
    "from datasets import load_dataset\n",
    "\n",
    "# Параметры\n",
    "BATCH_SIZE = 256\n",
    "\n",
    "# Загрузка датасета\n",
    "#ds = load_dataset(\"wikimedia/wikipedia\", \"20231101.en\")\n",
    "\n",
    "# Инициализация временных списков для батчей\n",
    "batch_ids = []\n",
    "batch_payloads = []\n",
    "batch_vectors = []\n",
    "\n",
    "# Чтение большого файла построчно и загрузка в базу данных\n",
    "with open('/data/wikipedia_embeddings/embeddings_part1_embed_by_text_512.json', 'r') as file:\n",
    "    for index, line in tqdm.tqdm(enumerate(file)):\n",
    "        #if index < 2650000:\n",
    "        #    continue\n",
    "        # Парсинг JSON-строки\n",
    "        string = line.strip().rstrip(\",\").rstrip(']').lstrip('[')\n",
    "        if not string:\n",
    "            break\n",
    "        entry = json.loads(string)\n",
    "        data = ds['train'][index]\n",
    "\n",
    "        # Добавляем данные в текущий батч\n",
    "        batch_ids.append(int(10e9) + int(entry['id']))\n",
    "        batch_payloads.append({\n",
    "            \"text\": data['text'],\n",
    "            \"my_metadata\": {\n",
    "                \"source\": data['url'],\n",
    "                \"title\": data['title']\n",
    "            }\n",
    "        })\n",
    "        batch_vectors.append(entry[\"vector\"])\n",
    "\n",
    "        # Если батч заполнен, делаем загрузку в базу данных\n",
    "        if (index + 1) % BATCH_SIZE == 0:\n",
    "            client.upsert(\n",
    "                collection_name=COLLECTION_NAME,\n",
    "                points=models.Batch(\n",
    "                    ids=batch_ids,\n",
    "                    payloads=batch_payloads,\n",
    "                    vectors=batch_vectors,\n",
    "                ),\n",
    "                #timeout=30\n",
    "            )\n",
    "            # Очищаем временные списки для следующего батча\n",
    "            batch_ids.clear()\n",
    "            batch_payloads.clear()\n",
    "            batch_vectors.clear()\n",
    "\n",
    "    # Загрузка оставшихся данных (если общее количество записей не кратно BATCH_SIZE)\n",
    "    if batch_ids:\n",
    "        client.upsert(\n",
    "            collection_name=COLLECTION_NAME,\n",
    "            points=models.Batch(\n",
    "                ids=batch_ids,\n",
    "                payloads=batch_payloads,\n",
    "                vectors=batch_vectors,\n",
    "\n",
    "            ),\n",
    "        )\n"
   ]
  },
  {
   "cell_type": "code",
   "execution_count": 3,
   "metadata": {},
   "outputs": [
    {
     "name": "stderr",
     "output_type": "stream",
     "text": [
      "3204742it [1:47:52, 495.15it/s]\n"
     ]
    }
   ],
   "source": [
    "import json\n",
    "import tqdm\n",
    "from datasets import load_dataset\n",
    "\n",
    "# Параметры\n",
    "BATCH_SIZE = 32\n",
    "\n",
    "# Инициализация временных списков для батчей\n",
    "batch_ids = []\n",
    "batch_payloads = []\n",
    "batch_vectors = []\n",
    "\n",
    "# Чтение большого файла построчно и загрузка в базу данных\n",
    "with open('/data/wikipedia_embeddings/embeddings_part2_embed_by_text_512.json', 'r') as file:\n",
    "    for index, line in tqdm.tqdm(enumerate(file)):\n",
    "        if index < 1000000:\n",
    "            continue\n",
    "        # Парсинг JSON-строки\n",
    "        string = line.strip().rstrip(\",\").rstrip(']').lstrip('[')\n",
    "        if not string:\n",
    "            break\n",
    "        entry = json.loads(string)\n",
    "        data = ds['train'][index + 3203072]\n",
    "\n",
    "        # Добавляем данные в текущий батч\n",
    "        batch_ids.append(int(10e9) + int(entry['id']))\n",
    "        batch_payloads.append({\n",
    "            \"text\": data['text'],\n",
    "            \"my_metadata\": {\n",
    "                \"source\": data['url'],\n",
    "                \"title\": data['title']\n",
    "            }\n",
    "        })\n",
    "        batch_vectors.append(entry[\"vector\"])\n",
    "\n",
    "        # Если батч заполнен, делаем загрузку в базу данных\n",
    "        if (index + 1) % BATCH_SIZE == 0:\n",
    "            client.upsert(\n",
    "                collection_name=COLLECTION_NAME,\n",
    "                points=models.Batch(\n",
    "                    ids=batch_ids,\n",
    "                    payloads=batch_payloads,\n",
    "                    vectors=batch_vectors,\n",
    "                ),\n",
    "                #params={\"timeout\": 30}\n",
    "            )\n",
    "            # Очищаем временные списки для следующего батча\n",
    "            batch_ids.clear()\n",
    "            batch_payloads.clear()\n",
    "            batch_vectors.clear()\n",
    "\n",
    "    # Загрузка оставшихся данных (если общее количество записей не кратно BATCH_SIZE)\n",
    "    if batch_ids:\n",
    "        client.upsert(\n",
    "            collection_name=COLLECTION_NAME,\n",
    "            points=models.Batch(\n",
    "                ids=batch_ids,\n",
    "                payloads=batch_payloads,\n",
    "                vectors=batch_vectors,\n",
    "\n",
    "            ),\n",
    "        )\n"
   ]
  },
  {
   "cell_type": "code",
   "execution_count": 4,
   "metadata": {},
   "outputs": [
    {
     "name": "stdout",
     "output_type": "stream",
     "text": [
      "[{\"id\": \"38333481\", \"vector\": [0.02525411173701286\n",
      "{\"id\": \"38333486\", \"vector\": [0.009253010153770447\n",
      "{\"id\": \"38333493\", \"vector\": [0.030847351998090744\n",
      "{\"id\": \"38333522\", \"vector\": [0.03813692182302475,\n",
      "{\"id\": \"38333538\", \"vector\": [0.003134671365842223\n",
      "{\"id\": \"38333541\", \"vector\": [0.04139922931790352,\n",
      "{\"id\": \"38333546\", \"vector\": [0.014245477505028248\n",
      "{\"id\": \"38333547\", \"vector\": [-0.00340053322724998\n",
      "{\"id\": \"38333550\", \"vector\": [0.009827806614339352\n",
      "{\"id\": \"38333572\", \"vector\": [0.003196465549990534\n"
     ]
    }
   ],
   "source": [
    "# Attempting to read the first 10 lines of the specified JSON file and display them.\n",
    "file_path = '/data/wikipedia_embeddings/embeddings_part2_embed_by_text_512.json'\n",
    "\n",
    "with open(file_path, 'r', encoding='utf-8') as file:\n",
    "    for i in range(10):\n",
    "        print(file.readline().strip()[:50])\n"
   ]
  },
  {
   "cell_type": "code",
   "execution_count": 3,
   "metadata": {},
   "outputs": [
    {
     "name": "stderr",
     "output_type": "stream",
     "text": [
      "/tmp/ipykernel_9449/3294939613.py:3: LangChainDeprecationWarning: The class `HuggingFaceEmbeddings` was deprecated in LangChain 0.2.2 and will be removed in 1.0. An updated version of the class exists in the langchain-huggingface package and should be used instead. To use it run `pip install -U langchain-huggingface` and import as `from langchain_huggingface import HuggingFaceEmbeddings`.\n",
      "  embeddings = HuggingFaceEmbeddings(\n"
     ]
    }
   ],
   "source": [
    "from langchain_community.embeddings import HuggingFaceEmbeddings\n",
    "\n",
    "embeddings = HuggingFaceEmbeddings(\n",
    "    model_name='intfloat/multilingual-e5-large',\n",
    "    model_kwargs={\"device\": \"cpu\"},\n",
    "    cache_folder='cache'\n",
    ")"
   ]
  },
  {
   "cell_type": "code",
   "execution_count": 5,
   "metadata": {},
   "outputs": [
    {
     "data": {
      "text/plain": [
       "CollectionInfo(status=<CollectionStatus.GREEN: 'green'>, optimizer_status=<OptimizersStatusOneOf.OK: 'ok'>, vectors_count=None, indexed_vectors_count=3203072, points_count=3203072, segments_count=8, config=CollectionConfig(params=CollectionParams(vectors=VectorParams(size=1024, distance=<Distance.COSINE: 'Cosine'>, hnsw_config=None, quantization_config=ScalarQuantization(scalar=ScalarQuantizationConfig(type=<ScalarType.INT8: 'int8'>, quantile=None, always_ram=None)), on_disk=True, datatype=None, multivector_config=None), shard_number=1, sharding_method=None, replication_factor=1, write_consistency_factor=1, read_fan_out_factor=None, on_disk_payload=True, sparse_vectors=None), hnsw_config=HnswConfig(m=16, ef_construct=100, full_scan_threshold=10000, max_indexing_threads=0, on_disk=True, payload_m=None), optimizer_config=OptimizersConfig(deleted_threshold=0.2, vacuum_min_vector_number=1000, default_segment_number=0, max_segment_size=None, memmap_threshold=20000, indexing_threshold=20000, flush_interval_sec=5, max_optimization_threads=None), wal_config=WalConfig(wal_capacity_mb=32, wal_segments_ahead=0), quantization_config=None), payload_schema={})"
      ]
     },
     "execution_count": 5,
     "metadata": {},
     "output_type": "execute_result"
    }
   ],
   "source": [
    "client.get_collection(COLLECTION_NAME)"
   ]
  },
  {
   "cell_type": "code",
   "execution_count": 14,
   "metadata": {
    "scrolled": true
   },
   "outputs": [
    {
     "data": {
      "text/plain": [
       "QueryResponse(points=[ScoredPoint(id=10024385318, version=7662, score=0.8935852, payload={'text': 'The Witcher 2: Assassins of Kings () is a 2011 action role-playing video game developed by CD Projekt Red, based on The Witcher series of fantasy novels by Andrzej Sapkowski. It is the sequel to the 2007 game The Witcher and the second main installment in [[The Witcher (video game series)|The Witcher\\'\\'\\'s video game series]]. It was released for Microsoft Windows, Xbox 360, OS X, and Linux.\\n\\nThe player directs the actions of Geralt of Rivia, a monster hunter known as a Witcher. The fantasy world in which his adventures take place owes much to Polish history and Slavic mythology.\\n\\nThe game was both a critical and commercial success, selling over 8 million copies by September 2014. The third installment in the series, The Witcher 3: Wild Hunt, was released in May 2015.\\n\\nGameplay\\n\\nThe gameplay of The Witcher 2 is a marked departure from that of its predecessor. Combat, for instance, is much more complex, with additions in the form of abilities to lay traps and aim and throw ranged weapons. The protagonist, Geralt, has an improved offensive and defensive arsenal, with a wide range of melee and ranged weapons, armor, bombs, traps, and secondary weapons such as hatchets and shovels. Upgrades are divided into four distinct paths: an initial training path, which includes generalized upgrades for various core abilities and must be invested in before the other paths can be accessed; swordsmanship, which improves Geralt\\'s sword-fighting abilities; alchemy, which includes perks such as reducing the negative effects of potions; and magic, which improves Witcher Signs.The Witcher\\xa02 includes a stealth mode in certain parts of the game, where players must remain undetected as they make their way to a certain objective. Players have the option of stunning enemies if Geralt manages to get behind them, but the player may choose to take a less subtle approach and engage the guards in combat.\\n\\nPlot\\n\\nStory\\nThe player controls Geralt of Rivia, who is one of the few remaining witchers – enhanced and trained humans with special powers who hunt monsters for a living. The Witcher 2: Assassins of Kings contains many different paths and storylines, along with multiple endings.\\n\\nPrologue\\nAt the start of the game, Geralt is in prison under suspicion of assassinating Foltest, the king of Temeria. The head of the Temerian special forces, Vernon Roche, interrogates Geralt and learns the story that led from Geralt being Foltest\\'s right-hand man to a prisoner. Prior to and during the events of The Witcher, Foltest had a secret relationship with a baroness named Maria Louisa La Valette, which led to two children, Anais and Boussy. Some time after Geralt saved Foltest from a witcher assassin (at the end of The Witcher), Foltest attempted to claim his children and bring them to live with him in Vizima. Maria was not willing to give up the children, and Foltest waged a war to claim them. Geralt succeeded in escorting Foltest to his children, but an unknown assailant kills Foltest before disappearing, leaving Geralt the only suspect. After the interrogation, Roche decides that Geralt is innocent and aids him in escaping the prison. The two, along with sorceress Triss Merigold, go in search of the kingslayer.\\n\\nChapter 1\\n\\nThe trio arrives in the trading town of Flotsam and is ambushed by Iorveth, a rebel elf. It appears to the group that a witcher, believed to have assassinated King Demavend of the neighboring country of Aedirn, is in league with the rebels. Geralt saves his old friends, the bard Dandelion and the dwarf Zoltan Chivay, from being hanged in the city square. With the help of sorceress Síle de Tansarville, Geralt kills a Kayran, a giant monster that is disrupting the town\\'s trade routes. Geralt discovers that Loredo, the ostensibly Temerian commander of the town, is intending to sell the town to King Henselt of Kaedwen. He also discovers that the kingslayer, a witcher known as Letho, means to betray Iorveth and convinces the elf of the truth. As Geralt and Iorveth confront Letho, Roche arrives with an armed force. The player chooses between assisting Iorveth or Roche, thus setting the path of the second chapter. Regardless of the choice, Letho kidnaps Triss and forces her to teleport both of them to Aedirn.\\n\\nChapter 2 (Iorveth)\\n\\nIf Geralt assists Iorveth, the pair sail to upper Aedirn. There, they become embroiled in a rebellion against King Henselt of neighboring Kaedwen, and they assist the rebel forces. Geralt completes three missions: formulating a poison antidote for rebel leader Saskia, determining Triss\\'s whereabouts (captured by spies from the empire of Nilfgaard and taken to Loc Muinne), and lifting a battlefield curse that is preventing the rebels from defending Vergen, the rebel\\'s base of operations. The rebels defeat King Henselt\\'s army, and Henselt is forced to acknowledge Saskia\\'s terms. Geralt discovers Saskia is a dragon taking human form, but she is under mind control by her advisor, the sorceress Philippa Eilhart. When Philippa teleports Saskia and herself to Loc Muinne, Geralt and Iorveth follow.\\n\\nChapter 2 (Roche)\\n\\nIf Geralt assists Roche, Roche has Geralt assassinate Loredo for treason. Geralt and Roche sail to upper Aedirn. There, they also become embroiled in the rebellion against King Henselt, but assist the king instead of fighting against him. Geralt discovers an insurgency in the Kaedweni army: loyalists who are convinced Henselt is conspiring with the empire of Nilfgaard. Geralt completes three missions: determining Triss\\'s whereabouts (captured by a diplomatic delegation from Nilfgaard and taken to Loc Muinne), lifting a curse on King Henselt, and lifting a battlefield curse that is preventing the king from marching on the city of Vergen. Geralt defends Henselt from two witcher assassins, and assists Dethmold, a mage and royal advisor to King Henselt, in a necromancy ritual to discover they are in league with Síle de Tansarville, who has already fled to Loc Muinne with fellow sorceress Philippa Eilhart and entranced rebel leader Saskia in tow. Roche is revealed to be plotting against Kaedwen, and Henselt executes most of Roche\\'s men in retaliation. As Henselt assaults Vergen, Geralt defeats Henselt\\'s personal guard, and either allows Roche to murder Henselt in revenge (which causes a civil war in Kaedwen) or convinces him to spare the king. Geralt and Roche then go to Loc Muinne, on the trail of Triss and Philippa.\\n\\nChapter 3\\n\\nGeralt arrives at Loc Muinne with either Iorveth or Roche, depending on whom he assisted previously. The mages have called a meeting to establish a new magical ruling body known as the Conclave, and all royal leaders are at Loc Muinne. Philippa Eilhart and Síle de Tansarville intend to use the meeting to establish their own power, with the still-entranced Saskia as leverage.\\n\\nIf Geralt arrives with Iorveth, he must choose between rescuing Triss or rescuing Philippa, who is the only person capable of lifting the spell from Saskia but who was captured and blinded by the king of Redania. If Geralt arrives with Roche, he must choose between rescuing Triss or rescuing the kidnapped Princess Anais of Temeria. Depending on the choice, the mage-royal meeting is interrupted when Nilfgaardian forces arrive with Letho, who reveals the sorceresses\\' entire plot, or if Triss is rescued – regardless of whom Geralt assisted – she reveals the sorceresses\\' plot instead. The meeting is interrupted again by Saskia in dragon form, who is still under mind control by Philippa. Geralt chases down Síle, who attempts to use her megascope (a magical teleporter) to escape. However, Letho had sabotaged the megascope, in which Síle becomes stuck. Geralt can either rescue Síle or do nothing, in which case Síle is torn to bits. Finally, Geralt duels Saskia, after which he can kill her, let her live, or (if he rescued Phillipa earlier) break the spell over Saskia\\'s mind.\\n\\nEpilogue\\nIf Triss was rescued, the Conclave is restored and the mages work to seal Loc Muinne. If Triss was not rescued, a bloody pogrom of magic users occurs in Loc Muinne and throughout the Northern Kingdoms. Geralt finally confronts Letho, who reveals a Nilfgaardian plot to destabilize the Northern Kingdoms. After hearing Letho\\'s story, Geralt can either let him go or duel him to the death. Geralt then reunites with Triss and either Iorveth or Roche, and sets off south. A concurrent plot of the game is Geralt\\'s attempts to recover lost memories from his previous life, learning more about his beloved Yennefer, and the mythical Wild Hunt. The post-credit scene reveals a wood gathering peasant witnessing a Nilfgaardian invasion, setting the stage for The Witcher 3: Wild Hunt.\\n\\nDevelopmentThe Witcher 2: Assassins of Kings was announced on 18 September 2009. CD Projekt Red developed a proprietary engine, the REDengine, for the game, unlike the first installment, which ran on a modified version of BioWare\\'s Aurora Engine. The game incorporates the Havok physics engine.The Witcher 2 features a branching dialogue system with full voice acting, which was cast, directed, and recorded in London, England. The developers said that the game would have 16 different endings, although that was later clarified as 16 \"states of the world\" by the game\\'s end. The game drew from influences such as Demon\\'s Souls, Heavy Rain, and Batman: Arkham Asylum.\\n\\nCD Projekt Red released the first gameplay video on 25 March 2011, showcasing different methods with which a player could complete a level. Another gameplay video was revealed at Gamescom 2011, displaying the game\\'s many characters and settings. An Xbox 360 version was announced on 2 June 2011, with CD Projekt Red confirming that it would be released by the end of the year. However, on 1 August 2011, the Xbox 360 release date was pushed back to the first quarter of 2012 to give the team \"more time expanding and polishing certain elements of the gameplay\" and to allow the developers time to deal with legal issues surrounding distribution rights for the game.\\n\\nRelease\\nDuring the game\\'s initial announcement, CD Projekt Red that their parent company CD Projekt would self-distribute the game in Poland, in addition to Central Europe. A contract with Agora S.A. was also announced to allow the company to co-produce the game in Poland. Distribution deals with Atari in North America and 1C Company/Snowball Studios in Russia were verified, while a European distribution plan was still under negotiations. On May 25, 2010, it was announced that Namco Bandai Partners would be the game\\'s distributor in Western Europe, Australia, New Zealand, and the Middle East.\\n\\nOn 14 April 2011, CD Projekt Red announced during their CDP Days 2011 Spring Conference that retail copies of the game would feature SecuRom digital rights management (DRM). However, the protection would still allow for infinite installations on an infinite number of PCs, with the ability to play on up to five PCs at any one time. It was confirmed that the game would feature no censorship between regions. The Witcher 2 was also distributed through several digital distribution services such as Steam and CD Projekt Red\\'s own service GOG.com. The version sold on GOG.com was the only version that did not have any DRM at release.\\n\\nOn 3 May 2011, Namco Bandai Partners Australia confirmed that the Australian release of the game would be modified to meet the MA15+ rating. The edit specifically relates to a side quest in which Geralt is offered sex as a reward for completing the quest. The Australian version sees Geralt decline the offer automatically. Three weeks prior to this announcement, the game was removed from the Australian Steam store, causing outrage amongst the Australian gaming community. Additionally, CD Projekt Red\\'s digital distribution service GOG.com announced that the price of the Australian version would be increased due to licensing issues, but that customers could still pre-order the game for its original price 17 hours before the change.The Witcher 2: Assassins of Kings was released for PC on 17 May 2011 at retail stores and digital distribution services such as GOG and Steam.\\n\\nXbox 360 version\\nOn 30 June 2011, it was announced that THQ would be the distributor for the Xbox 360 version of the game for Western Europe, Australia, New Zealand, and the Middle East instead of Namco Bandai Partners. On 8 July 2011, Namco Bandai sued CD Projekt, accusing CD Projekt of breaking its contractual obligations with the publisher. On 8 December 2011, Namco Bandai won the suit, and CD Projekt Red\\'s distribution agreement with THQ was canceled.\\n\\nOn October 21, 2011, Warner Bros. Interactive Entertainment signed as the North American distributor for the Xbox 360 version.\\n\\nUK supermarket chain Tesco released the Xbox 360 version of the game on Friday 13 April 2012 – four days ahead of the scheduled release date – and were asked to pull the game off the shelves until the original release date.\\n\\nSpike Chunsoft localised and published the Xbox 360 version in Japan.\\n\\nMarketing\\n\\nGOG promoted the game by reducing the price of The Witcher a week before the sequel\\'s release. They encouraged players to import their save files from the first game to the second. Steam offered three promotional The Witcher 2 items for Team Fortress\\xa02. These were a hat of hair, a sword, and a necklace, which were limited to the game\\'s Scout class. The May 2011 issue of the Polish version of Playboy featured the half-naked character Triss on the cover. In Russia, publishers 1C Company released a real-life nude calendar with copies of the game. When American President Barack Obama visited Poland in May 2011, Polish Prime Minister Donald Tusk gave him several gifts, including the Collector\\'s Edition of The Witcher 2.\\n\\nEnhanced Edition\\nOn 27 January 2012, CD Projekt Red announced an \"Enhanced Edition\" of The Witcher 2 via its sister company GOG.com. It was released on 17 April 2012 on the Xbox 360 and on Microsoft Windows via Steam and GOG.com. All existing owners of The Witcher 2 received free upgrades to the Enhanced Edition, and could pre-load the update starting 11 April 2012. All new copies on PC and Xbox 360 shipped with the additional content on board. The Witcher 2: Assassins of Kings - Enhanced Edition includes all content from the base game and added over 10GB of new content, including four hours of gameplay, arena mode, new tutorial, 36 minutes of cinematics including a new intro created by Platige Image and an outro, as well as a host of fixes to gameplay and the interface.\\n\\nReception\\n\\nCritical receptionThe Witcher 2: Assassins of Kings received generally favorable reviews. It has won over 50 awards for best graphics, best adaptation or use of a license, best story, best PC game, best RPG, and Game of the Year.\\n\\nCritics praised combat mechanics, customization, graphics, environments, immersion, and storytelling. PC Gamer felt that combat mechanics and the game\\'s ending were the weaker points of the game. 1UP\\'s Tom Chick gave the game a glowing \\'A\\' rating and cited its \"rich graphics that don\\'t have to be flashy, complex challenging combat, and superlative low-fantasy writing\". The game garnered some perfect scores, with GamePro saying that \"The Witcher 2 embodies everything that\\'s good about PC development, and everything that makes it, in my mind, the best platform out there.\" Game Informer gave the game a \"platinum score\" and mentioned that \"the brilliant dark fantasy adventure is just as good on console\" as it was on PC.\\n\\nA major source of contention about the game is the difficulty of the combat, especially during the game\\'s first few hours. Some sources such as Eurogamer have praised the difficulty of the prologue, explaining \"[the game] treats you not as a player\\xa0... but as an adult, free to make your own mistakes and suffer a plot in which not everyone gets what they deserve\".\\n\\nThe game was also criticized for what Rock, Paper, Shotgun characterized as gratuitous nudity, especially in the topless scene of the character Maria Louisa La Valette, who is said to show \"brazen breasts\" while being threatened with torture, her breasts sexualizing a scene that should be gravely serious. Other critics felt the scene was simply being realistic, in that a woman in the real world who is about to be tortured would probably have bare breasts.\\n\\nIn June 2014, the game garnered mainstream media coverage when United States President Barack Obama mentioned the video game in his speech in Poland. He said:\\n\\nSalesThe Witcher\\xa02 had reportedly sold more than 940,000 copies by August 2011, a sales rate that CD Projekt Red had projected. Of the 940,000 copies sold, 200,000 were online sales (digital sales).\\n\\nAdditional statistics for online sales were reported in November 2011. Direct2Drive, Impulse, and Gamersgate\\'s combined sales were a total of 10,000 units. GOG sold 40,000 copies. Within the same time period, 200,000 copies of The Witcher\\xa02 were sold on Steam.\\n\\nBy May 2012, the game had sold 1.7 million copies. By February 2013, the combined sales of the game and its predecessor exceeded 5 million. By March 2014, The Witcher series had sold 7 million copies of both games. By September 2014, the series reached 8 million copies.\\n\\nSequelThe Witcher 3: Wild Hunt\\'\\' was announced by CD Projekt Red on 5 February 2013, and was released on 19 May 2015 for Microsoft Windows, PlayStation 4 and Xbox One.\\n\\nReferences\\n\\nExternal links\\n\\n \\n \\n \\n\\n2011 video games\\nAction role-playing video games\\nAtari games\\nBandai Namco games\\nVideo games about dragons\\nLinux games\\nMacOS games\\nSingle-player video games\\n2 Assassins of Kings\\nVideo game sequels\\nVideo games developed in Poland\\nVideo games with stereoscopic 3D graphics\\nVideo games with user-generated gameplay content\\nWarner Bros. video games\\nWindows games\\nXbox 360 games\\nCD Projekt games\\nVideo games using Havok\\nXbox One X enhanced games\\nXbox One games\\nVideo games scored by Marcin Przybyłowicz', 'my_metadata': {'source': 'https://en.wikipedia.org/wiki/The%20Witcher%202%3A%20Assassins%20of%20Kings', 'title': 'The Witcher 2: Assassins of Kings'}}, vector=None, shard_key=None, order_value=None), ScoredPoint(id=10057589276, version=17766, score=0.8665962, payload={'text': '\"You Look Good in My Shirt\" is a song, written by Mark Nesler, Tom Shapiro, and Tony Martin and recorded by Australian country music artist Keith Urban for his 2002 album Golden Road. The original version charted at number 60 on the country charts in 2004 based on unsolicited airplay, while a re-recorded version of the song (which was included on a re-issue of Urban\\'s 2007 Greatest Hits: 18 Kids compilation album) was issued as a single in June 2008. For the chart week of September 6, 2008, it has become Urban\\'s eighth Number One song and his first Number One since \"Better Life\" reached Number One in late 2005.\\n\\nContent\\nThe song is an up-tempo based on electric guitar riffs. Its lyrics tell of a male and female who had previously broken up, but reunited the night before, as stated in the last half of the first verse. The chorus takes place the morning after their reunion, where the male character then sees that the female is wearing nothing but his shirt, and although he is uncertain about their relationship, he likes how she looks.\\n\\nCritical reception\\nBen Cisneros of Engine 145 gave the song a \"thumbs up\" rating. His review made note of the \"70\\'s guitar fills\" and the simple song structure, which \"kept the cuteness in this one from crossing over from enjoyable into insufferable territory\".\\n\\nHistory\\n\"You Look Good in My Shirt\" was initially planned to be released as the fifth and final single from Urban\\'s 2002 album Golden Road. However, it was withdrawn and replaced with \"Days Go By\", the first single from his next album 2004\\'s Be Here. Even though the song had been withdrawn before it could be promoted as a single, the version from Golden Road received enough airplay to reach #60 on the Billboard country charts.\\n\\nIn June 2008, Urban re-recorded the song and officially released that new version as a single. According to Urban, his intention to re-record the song was to \"bring all of the live energy\" to it, since the song had become a regular feature of his concerts and had gained popularity among fans. The newly-recorded rendition debuted at number 42 on the Hot Country Songs chart for the week of June 14, 2008. On the chart dated for September 6, 2008, the song became Urban\\'s eighth Number One hit on the U.S. country charts. In addition to its inclusion on the live DVD, the newly-recorded version of \"You Look Good in My Shirt\" was also featured on a re-issue of  Urban\\'s compilation album Greatest Hits: 18 Kids album, which was re-titled Greatest Hits: 19 Kids in order to indicate the addition of a new track.\\n\\nMusic video\\nThe music video was recorded live in Atlanta, GA, during Urban\\'s Love, Pain, & The Whole Crazy World Tour. It was directed by Chris Hicky.\\n\\nChart performance\\nThe initial version of \"You Look Good in My Shirt\" spent one week at #60 on the Billboard country charts. The 2008 re-recording reached Number One on the country charts on the chart week of September 6, 2008, giving Urban his first Billboard Number One since \"Better Life\" three years previous.\\n\\nGolden Road version\\n\\n2008 re-recording\\n\\nYear-end charts\\n\\nCertifications\\n\\nReferences\\n\\nExternal links\\nLyrics at CMT.com\\n\\n2008 singles\\nKeith Urban songs\\nSongs written by Mark Nesler\\nSongs written by Tom Shapiro\\nSongs written by Tony Martin (songwriter)\\nSong recordings produced by Dann Huff\\nCapitol Records Nashville singles\\nMusic videos directed by Chris Hicky\\n2002 songs', 'my_metadata': {'source': 'https://en.wikipedia.org/wiki/You%20Look%20Good%20in%20My%20Shirt', 'title': 'You Look Good in My Shirt'}}, vector=None, shard_key=None, order_value=None), ScoredPoint(id=10058400597, version=17986, score=0.8642006, payload={'text': 'Itopride (INN; brand name Ganaton) is a prokinetic benzamide derivative. These drugs inhibit dopamine and acetylcholine esterase enzyme and have a gastrokinetic effect. Itopride is indicated for the treatment of functional dyspepsia and other gastrointestinal conditions. It is a combined D2 receptor antagonist and acetylcholinesterase inhibitor.\\n\\nMedical uses\\n\\nTypically, itopride is indicated in the treatment of GI symptoms caused by reduced GI motility:\\ndyspepsia of a non-ulcer/dysmotility type (gastric \"fullness\", discomfort, and possible pain)\\ngastroparesis (delayed gastric emptying)\\nanorexia\\nheartburn\\nregurgitation\\nbloating\\nnausea and vomiting\\nother possible gastric, prolactin, or dopamine related conditions\\n\\nItopride was shown to significantly improve symptoms in patients with functional dyspepsia and motility disorders in placebo-controlled trials.\\n\\nThese studies concluded that the reduction in the severity of symptoms of functional dyspepsia after 8 weeks of treatment with itopride indicated that itopride was significantly superior to placebo and that itopride yielded a greater rate of response than placebo in significantly reducing pain and fullness.\\n\\nContraindications and precautions\\nItopride is a relatively new drug and it is not currently approved for normal prescribed use nor OTC use in either the US nor the UK. However, this does not necessarily indicate that itopride is not effective or safe.\\n\\nPatients taking itopride should report any side-effects to their treating physician.\\n\\nItopride is contraindicated in hypersensitivity to itopride or benzamides; lactation, GI hemorrhage, obstruction or perforation. Itopride may not be indicated for those suffering from Parkinson\\'s disease or other conditions involving dopamine regulation issues. Itopride should be used with special caution in the young and the elderly. Little information is available at this time regarding the safe use of itopride during pregnancy.\\n\\nAdverse drug reactions \\nThe most common side-effects of itopride include mild to moderate abdominal pain and diarrhoea. Some other side effects that may occur include: rash, giddiness, exhaustion, back or chest pain, increased salivation, constipation, headache, sleeping disorders, dizziness, galactorrhea, and gynecomastia.\\n\\nLeukopenia, a reduction in the normal level of white blood cells, can be a potentially life-threatening reaction to itopride.\\n\\nCentral nervous system adverse effects do not tend to occur due to poor penetration across the blood brain barrier, although a slight raising of prolactin levels may occur. Raising of prolactin levels is more common with high dose regimes of itopride.\\n\\nCardiac studies\\nItopride belongs to the same benzamide group as cisapride, a drug found to affect QT interval and possibly predispose those using it to cardiac arrhythmias. However, itopride does not have any adverse effect on the QT interval.\\n\\nLater, in a study conducted with healthy adult volunteers, itopride was shown as unlikely to cause cardiac arrhythmias or ECG changes in part to the lack of significant interaction and metabolism via the cytochrome P450 enzyme pathway, unlike cisapride and mosapride, as it is metabolized by a different enzyme set. New molecular studies on guinea pig ventricular myocytes also supported the cardiac safety profile of itopride, as it did not affect certain potassium mechanisms that may have been affected by cisapride or mosapride. Moreover, itopride has no affinity for the 5-HT4 receptors, unlike other benzamides such as cisapride and mosapride, which are 5-HT4 agonists. The affinity of cisapride for 5-HT4 receptors in the heart has been implicated in the undesirable cardiac effects of cisapride itself.\\n\\nThe conclusion of this study revealed that itopride is devoid of any abnormal effect on QT interval. Therefore, it may be possible that itopride could be considered as a better and certainly safer prokinetic agent than either cisapride or mosapride, and itopride should also be considered a welcome treatment addition for symptomatic nonulcer dyspepsia and other gastric motility disorders.\\n\\nPharmacology\\nItopride acts as a selective dual D2 receptor antagonist and acetylcholinesterase inhibitor.\\n\\nThere is evidence  that itopride may have prokinetic effects throughout the gastrointestinal tract from the stomach to the end of the colon. The pharmacokinetics of itopride appear to differ between Asian and Caucasian populations, with Caucasians having 30-50 percent lower blood levels of itopride after oral administration. Itopride poorly penetrates across the blood brain barrier because of its high polarity and thus itopride does not tend to cause any central nervous system adverse effects. Itopride has no effect on potassium channels.\\n\\nSimilarly to other D2 receptor antagonists, itopride has been found to dose-dependently increase prolactin levels.\\n\\nPharmacokinetics\\nAfter oral administration itopride undergoes rapid and extensive absorption with levels of itopride peaking in the blood plasma after only 35 minutes. Itopride is primarily eliminated via the kidneys having an elimination half-life of approximately 6 hours.\\n\\nMechanism of action\\n\\nItopride increases acetylcholine concentrations by inhibiting dopamine D2 receptors and acetylcholinesterase. Higher acetylcholine increases GI peristalsis, increases the lower esophageal sphincter pressure, stimulates gastric motility, accelerates gastric emptying, and improves gastro-duodenal coordination.\\n\\nItopride given as a single dose study found that it also raises levels of motilin, somatostatin and lowers levels of cholecystokinin, as well as adrenocorticotropic hormone. These effects may also contribute to itopride\\'s pharmacology.\\n\\nInteractions \\nAnticholinergic agents reduce the action of itopride.\\n\\nSociety and culture\\n\\nNames\\nItopride is available under the brand names Ganaton (JP, CZ, RU), Abbott Laboratories), Itoprid PMCS (CZ, SK), Itomed (KG, KZ, MD, RU, UA, UZ) and Prokit (PL), PRO.MED.CS Praha a.s.), Itogard (Apex Pharmaceuticals, Nepal) and others.  In Mexico, itopride (50\\xa0mg) is sold by Takeda Laboratories under the brand name Dagla. In Bulgaria and other countries of East Europe itopride (50\\xa0mg) is sold by Zentiva under the brand name Zirid\\n\\nReferences\\n\\nExternal links \\n \\n Abbott Labs \"Ganaton\"\\n \\n\\nAcetylcholinesterase inhibitors\\nBenzamides\\nD2 antagonists\\nAbbVie brands\\nTakeda Pharmaceutical Company brands\\nMotility stimulants\\nCatechol ethers\\nPeripherally selective drugs\\n\\nde:Prokinetikum\\nes:Procinético\\nja:イトプリド塩酸塩\\npl:Leki prokinetyczne', 'my_metadata': {'source': 'https://en.wikipedia.org/wiki/Itopride', 'title': 'Itopride'}}, vector=None, shard_key=None, order_value=None), ScoredPoint(id=10053080090, version=16381, score=0.85692596, payload={'text': \"Lilia Guadalupe Merodio Reza (Ciudad Juárez, Chihuahua, September 19, 1978) is a Mexican politician, currently serving in the Senate and representing the state of Chihuahua.\\n\\nLife\\nMerodio studied business administration at the Universidad Autónoma de Ciudad Juárez, graduating in 2001. She headed the Water and Sanitation Board of Ciudad Juárez from 2001 to 2002 and sat on the city council from 2002 to 2004. From 2001 to 2004, she was the President of University Students in the Professional Forum of the local chapter of the Confederación Nacional de Organizaciones Populares. From 2004 to 2006, she headed the city's human resources department and also served as a technical secretary on a commission about low voter turnout.\\n\\nVoters in the Second District of Chihuahua sent Merodio to the Chamber of Deputies for the LX Legislature, where she served from 2006 to 2009. She was the vice coordinator of the PRI parliamentary group in the chamber and secretary of the Board of Directors. She also served as the secretary of the Communications Commission and on four others: Equity and Gender; Youth and Sports; National Defense; and Population, Borders and Migratory Matters.\\n\\nWith her term as deputy done, Merodio primarily served in PRI party positions, as a city-level agenda coordinator, representative of the Chihuahua state government in Mexico City, and administrative secretary for the national PRI.\\n\\nChihuahua sent Merodio back to Congress in 2012, this time to the Senate for the LXII and LXIII Legislatures. She presides over the Commission on Care for Vulnerable Groups and is on five further commissions: Youth and Sports, Health, Communications and Transportation, Finances and Public Credit, and Foreign Relations/Asia-Pacific.\\n\\nBetween December 2015 and January 2016, Merodio asked for license to leave the Senate, hoping to be named the PRI gubernatorial candidate, but was eventually bypassed in favor of Enrique Serrano Escobar. She was temporarily replaced by her alternate, deputy Adriana Terrazas Porras. Ultimately, Merodio joined Escobar's campaign as a statewide liaison and coordinator. She also served as a link between the gubernatorial campaign and those of state legislators and mayors.\\n\\nReferences\\n\\n1978 births\\nLiving people\\nInstitutional Revolutionary Party politicians\\nMembers of the Senate of the Republic (Mexico)\\nMembers of the Chamber of Deputies (Mexico)\\nPeople from Ciudad Juárez\\n21st-century Mexican politicians\\n21st-century Mexican women politicians\\nWomen members of the Chamber of Deputies (Mexico)\\nWomen members of the Senate of the Republic (Mexico)\\nPoliticians from Chihuahua (state)\\nUniversidad Autónoma de Ciudad Juárez alumni\\nSenators of the LXII and LXIII Legislatures of Mexico\", 'my_metadata': {'source': 'https://en.wikipedia.org/wiki/Lilia%20Merodio%20Reza', 'title': 'Lilia Merodio Reza'}}, vector=None, shard_key=None, order_value=None), ScoredPoint(id=10038438490, version=12547, score=0.8489952, payload={'text': 'Nicky Guadagni (born August 1, 1952) is a Canadian actress who has worked on stage, radio, film and television.\\n\\nLife and career\\nOriginally from Montreal, Nicky Guadagni majored in drama at Dawson College and went on to train at the Royal Academy of Dramatic Art in London. Her first role after graduation was playing Miranda, with Paul Scofield as Prospero, in a production of The Tempest in the West End of London. Her theatre work in Canada includes A Midsummer Night\\'s Dream at Stratford Third Stage; Zastrozzi and Criminal Genius at the Factory Theatre; Hamlet and Mother Courage for the National Arts Centre; The Seagull and The Member of the Wedding at Tarragon Theatre; and OD on Paradise at Theatre Passe Muraille.\\n\\nGuadagni has been nominated for five Gemini Awards for her work on television, and received the award in 1998 (Best Supporting Actress, Major Crime) and 2004 (Best Actress in a Guest Role, Blue Murder, \"Eyewitness\"). She was a mainstay of the repertory cast of the A&E Network\\'s A Nero Wolfe Mystery (2001–2002), playing no fewer than 13 highly varied roles in the course of the TV series and the pilot, The Golden Spiders: A Nero Wolfe Mystery (2000). She also played a leading role in cult sci-fi film Cube in 1997.\\n\\nIn 2002 Guadagni made her playwriting debut with In the Wings, adapted from the 1998 novel by Carole Corbeil, which she performed at Toronto\\'s Theatre Passe Muraille. In 2011 an abbreviated version of her seven-character, one-person show Hooked, written by Carolyn Smart, was part of Toronto\\'s Summerworks Theatre Festival schedule, with performances at Theatre Passe Muraille Backspace.\\n\\nGuadagni taught voice and scene study for five years at George Brown College as well as at the University College Drama Program in Toronto, Ontario, and has also worked at the National Theatre School of Canada in Montreal. She has provided coaching and dramatic training for clients of the firm The Humphrey Group since 1995.\\n\\nIn 2019, she played the demented matriarch Helene Le Domas in the horror film Ready or Not.\\n\\nFilmography\\n\\nAwards\\n1985, Nominee, Gemini AwardTurning to StoneBest Performance by an Actress in a Lead RoleAcademy of Canadian Cinema and Television\\n1988, Nominee, Gemini AwardThe Squamish FiveBest Performance by an Actress in a Supporting RoleAcademy of Canadian Cinema and Television\\n1996, Nominee, Gemini AwardPerformance! Saying ItBest Performance by an Actress in a Lead Role in a Dramatic Program or MiniseriesAcademy of Canadian Cinema and Television\\n1998, Winner, Gemini AwardMajor CrimeBest Performance by an Actress in a Supporting RoleAcademy of Canadian Cinema and Television\\n2004, Winner, Gemini AwardBlue Murder (episode \"Eyewitness\")Best Performance by an Actress in a Guest Role in a Dramatic SeriesAcademy of Canadian Cinema and Television\\n\\nReferences\\n\\nExternal links\\n\\n1952 births\\nCanadian film actresses\\nCanadian television actresses\\nBest Supporting Actress in a Television Film or Miniseries Canadian Screen Award winners\\nLiving people\\nAnglophone Quebec people\\nCanadian people of Italian descent\\nAcademic staff of the National Theatre School of Canada\\nDawson College alumni\\nAlumni of RADA\\nActresses from Montreal\\nCanadian stage actresses\\nDora Mavor Moore Award winners\\n20th-century Canadian actresses\\n21st-century Canadian actresses', 'my_metadata': {'source': 'https://en.wikipedia.org/wiki/Nicky%20Guadagni', 'title': 'Nicky Guadagni'}}, vector=None, shard_key=None, order_value=None)])"
      ]
     },
     "execution_count": 14,
     "metadata": {},
     "output_type": "execute_result"
    }
   ],
   "source": [
    "import numpy as np\n",
    "\n",
    "client.query_points(\n",
    "        collection_name=COLLECTION_NAME,\n",
    "        #search_params=models.SearchParams(hnsw_ef=128, exact=False),\n",
    "        query=embeddings.embed_query('query: ' + 'What is Witcher 2?'),\n",
    "        limit=5,\n",
    "        with_vectors=False,\n",
    "        timeout=300\n",
    "    )"
   ]
  },
  {
   "cell_type": "code",
   "execution_count": 6,
   "metadata": {},
   "outputs": [
    {
     "data": {
      "application/vnd.jupyter.widget-view+json": {
       "model_id": "37a32d35f387453ea9b178c0664acd87",
       "version_major": 2,
       "version_minor": 0
      },
      "text/plain": [
       "Resolving data files:   0%|          | 0/41 [00:00<?, ?it/s]"
      ]
     },
     "metadata": {},
     "output_type": "display_data"
    },
    {
     "data": {
      "application/vnd.jupyter.widget-view+json": {
       "model_id": "31dda76c0a2846f6a5e319b8c5e76c61",
       "version_major": 2,
       "version_minor": 0
      },
      "text/plain": [
       "Loading dataset shards:   0%|          | 0/41 [00:00<?, ?it/s]"
      ]
     },
     "metadata": {},
     "output_type": "display_data"
    }
   ],
   "source": [
    "from datasets import load_dataset\n",
    "\n",
    "ds = load_dataset(\"wikimedia/wikipedia\", \"20231101.en\")"
   ]
  },
  {
   "cell_type": "code",
   "execution_count": 7,
   "metadata": {},
   "outputs": [
    {
     "data": {
      "text/plain": [
       "3203072"
      ]
     },
     "execution_count": 7,
     "metadata": {},
     "output_type": "execute_result"
    }
   ],
   "source": [
    "ds['train']['id'].index('38333481')"
   ]
  },
  {
   "cell_type": "code",
   "execution_count": 10,
   "metadata": {},
   "outputs": [
    {
     "data": {
      "text/plain": [
       "{'id': '38333493',\n",
       " 'url': 'https://en.wikipedia.org/wiki/On%20Top%20of%20the%20World%20%28Imagine%20Dragons%20song%29',\n",
       " 'title': 'On Top of the World (Imagine Dragons song)',\n",
       " 'text': '\"On Top of the World\" is a song by the American rock band Imagine Dragons first appearing on their major-label debut extended play Continued Silence (2012). The song also appears on their first full-length album Night Visions (2012). \"On Top of the World\" was released digitally as a single on March 18, 2013.\\n\\nComposition\\n\\n\"On Top of the World\" primarily features Magne guitar and piano instrumentation, with vocals performed by lead singer Dan Reynolds. Originally published in the key of C major, the song itself expresses a celebration of accomplishment for the band after striving for years to become successful. The song incorporates the chord progression of C-F-C-Dm in the verses, and F-C-G-Dm in the chorus and bridge, with the pre-chorus using Am and G to create a different break in the song. The song \"On Top of the World\" is found to be a positive, upbeat track, unlike other songs found on Night Visions, including \"Bleeding Out\" and \"Hear Me\".\\n\\nThe song is built on a sample of minimalist composer Steve Reich\\'s \"Clapping Music\" from 1972.\\n\\nIn media \\nImagine Dragons performed the song live on the Australian version of  The X Factor in 2013.\\n\\n\"On Top of the World\" was licensed for inclusion on the soundtrack of EA Sports game, FIFA 13 And NHL 14. The band, longtime fans of the FIFA video game series, reacted positively to its inclusion in the game and stated that it would be \"a lot of fun hearing the track play while we are doing bicycle kicks and screaming at the screen.\" It also served as the opening theme of the short-lived CBS comedy series Partners. \"On Top of the World\" was performed by the PS22 Chorus during Barack Obama\\'s second United States presidential inauguration. It also featured in Konami video game Pro Evolution Soccer 2013 as well as being used in a Samsung Galaxy Note 8.0 advert.\\n\\nThe song was featured prominently in the film The Incredible Burt Wonderstone several times.\\n\\nThe song was featured in the British kids film All Stars.\\n\\nThe song is featured in the Liv and Maddie episode \"Twin-a-Rooney\", performed by Dove Cameron in the title role of Liv Rooney.  Dove Cameron\\'s version appears on the compilation album Disney Channel Play It Loud.\\n\\nHunter Hayes covered the song live on his US tour.\\n\\nThe song was used by ESPN for their coverage of the NBA for the 2013–14 NBA season.\\n\\nThe song was used during Cartoon Network\\'s 2013 Hall of Game Awards.\\n\\nThe song was used in trailers for the films The Croods (2013) and Island of Lemurs: Madagascar (2014).\\n\\nWPVI-TV in Philadelphia, Pennsylvania uses the song to promote their morning news, Action News Mornings.\\n\\nThe song is used in the Coca-Cola promotional video \"Moments of Happiness\", shown exclusively at the World of Coca-Cola in Atlanta, Georgia.\\n\\nThe song was featured in the soundtracks of Alpha and Omega 4: The Legend of the Saw Tooth Cave and The Angry Birds Movie.\\n\\nFrom 2013 to 2015, Vodafone Portugal and Vodafone Greece used the song in their ads for the Red phone plan.\\n\\nIn November 2017, Ford used this song in their Black Friday year-end event sales commercial.\\n\\nMusic video\\n\\nAs a part of the Palladia documentary Imagine Dragons: The Making of Night Visions, which originally aired on 7 November 2012, the band filmed a video of themselves performing \"On Top of the World\" and subsequently uploaded it to YouTube.\\n\\nOn 13 November 2013 the band released an official music video for the song. The video satirizes a popular conspiracy theory that the 1969 Moon landings were faked, the footage having been directed by Stanley Kubrick, and that Kubrick then made references to the fakery in various of his subsequent films. In the video, a rock band similar to the Beatles (played by the members of Imagine Dragons) pretend to be astronauts for the faked Moon landing. The taping goes awry as fans of the band stream into the sound stage and turn the event into a rock concert, much to the chagrin of Kubrick and President Richard Nixon, who is also on hand; though no one else watching, either in the studio or at home, seems concerned about the revelation of fakery, instead enjoying the music. The video also briefly references another popular conspiracy theory from around the same time, that Beatles member Paul McCartney died in 1966 and was replaced by a look-alike.\\n\\nThe video was filmed in Provo, Utah, Imagine Dragons\\' original hometown, and includes cameos from various celebrities associated with Provo or Brigham Young University, including Jon Heder, Whit Hertford, the cast of Studio C, Robbie Connolly, and The New Electric Sound. Aja Volkman, Imagine Dragons frontman Dan Reynolds\\' wife, appears as Reynolds\\' character\\'s wife. The video was co-directed by Matt Eastin and Corey Fox.\\n\\nTrack listing\\n\\nCommercial performance\\nThe song peaked at 79 on the US Billboard Hot 100 and 10 on the Hot Rock Songs charts.  It has also charted in the top ten in Australia (No. 10), Austria (No. 6), Netherlands (No. 10), New Zealand (No. 10), Poland (No. 7), and Portugal (No. 1). Despite having not yet been released to mainstream radio, it has received airplay on contemporary hit stations, such as 97.1 ZHT in Salt Lake City.\\n\\nThe song reached a million copies sold in the U.S. in April 2014.  It is the fourth million seller from the Night Visions album.\\n\\nPersonnel\\nAdapted from Night Visions liner notes.\\n\\nImagine Dragons\\nDan Reynolds\\xa0– lead vocals\\nWayne Sermon\\xa0– guitar, backing vocals\\nBen McKee\\xa0– bass, backing vocals\\nDaniel Platzman\\xa0– drums\\n\\nAdditional musicians\\nJ Browz\\xa0– guitar\\n\\nAdditional personnel\\nAlexander Grant\\xa0– co-writer, producer\\nCharlie Stavish\\xa0– recording\\nJosh Mosser\\xa0– engineering\\nManny Marroquin\\xa0– mixing\\nJoe LaPorta\\xa0– mastering\\n\\nCharts\\n\\nWeekly charts\\n\\nYear-end charts\\n\\nCertifications\\n\\nAccolades\\n\\nRelease history\\n\\n#MakeTheFuture Version\\nIn November 2017, petroleum company Shell created a music video of \"On Top of the World\" as part of their \"Make The Future\" campaign to promote environment-friendly energy. The featured artists were Jennifer Hudson, Pixie Lott, Luan Santana, Yemi Alade, and Monali Thakur. Another #MakeTheFuture music video also featured American Authors\\' 2014 hit single Best Day of My Life.\\n\\nReferences\\n\\n2012 songs\\n2013 singles\\nCultural depictions of Richard Nixon\\nCultural depictions of Stanley Kubrick\\nImagine Dragons songs\\nSong recordings produced by Alex da Kid\\nSongs written by Wayne Sermon\\nSongs written by Dan Reynolds (musician)\\nSongs written by Daniel Platzman\\nSongs written by Ben McKee\\nSongs written by Alex da Kid\\nKidinakorner singles\\nInterscope Records singles\\nUniversal Music Group singles\\nAmerican folk rock songs'}"
      ]
     },
     "execution_count": 10,
     "metadata": {},
     "output_type": "execute_result"
    }
   ],
   "source": [
    "ds['train'][3203072]"
   ]
  },
  {
   "cell_type": "code",
   "execution_count": null,
   "metadata": {},
   "outputs": [],
   "source": [
    "import json\n",
    "import tqdm\n",
    "from datasets import load_dataset\n",
    "\n",
    "# Параметры\n",
    "BATCH_SIZE = 1024\n",
    "\n",
    "# Загрузка датасета\n",
    "#ds = load_dataset(\"wikimedia/wikipedia\", \"20231101.en\")\n",
    "\n",
    "# Инициализация временных списков для батчей\n",
    "batch_ids = []\n",
    "batch_payloads = []\n",
    "batch_vectors = []\n",
    "\n",
    "# Чтение большого файла построчно и загрузка в базу данных\n",
    "with open('D:\\embeddings_part2_text512.json', 'r') as file:\n",
    "    for index, line in tqdm.tqdm(enumerate(file)):\n",
    "        # Парсинг JSON-строки\n",
    "        string = line.strip().rstrip(\",\").lstrip('[')\n",
    "        if not string:\n",
    "            break\n",
    "        entry = json.loads(string)\n",
    "        #data = ds['train'][index]\n",
    "\n",
    "        # Добавляем данные в текущий батч\n",
    "        batch_ids.append(int(10e9) + int(entry['id']))\n",
    "        '''\n",
    "        batch_payloads.append({\n",
    "            \"text\": data['text'],\n",
    "            \"my_metadata\": {\n",
    "                \"source\": data['url'],\n",
    "                \"title\": data['title']\n",
    "            }\n",
    "        })\n",
    "        '''\n",
    "        batch_vectors.append(entry[\"vector\"])\n",
    "\n",
    "        # Если батч заполнен, делаем загрузку в базу данных\n",
    "        if (index + 1) % BATCH_SIZE == 0:\n",
    "            client.upsert(\n",
    "                collection_name=COLLECTION_NAME,\n",
    "                points=[\n",
    "                    models.PointStruct(\n",
    "                        id=batch_ids[i],\n",
    "                        vector=batch_vectors[i]\n",
    "                    )\n",
    "                    for i in range(BATCH_SIZE)\n",
    "                ]\n",
    "            )\n",
    "            # Очищаем временные списки для следующего батча\n",
    "            batch_ids.clear()\n",
    "            batch_payloads.clear()\n",
    "            batch_vectors.clear()\n",
    "\n",
    "    # Загрузка оставшихся данных (если общее количество записей не кратно BATCH_SIZE)\n",
    "    if batch_ids:\n",
    "        client.upsert(\n",
    "            collection_name=COLLECTION_NAME,\n",
    "            points=models.Batch(\n",
    "                ids=batch_ids,\n",
    "                #payloads=batch_payloads,\n",
    "                vectors=batch_vectors,\n",
    "\n",
    "            ),\n",
    "        )\n"
   ]
  },
  {
   "cell_type": "code",
   "execution_count": 36,
   "metadata": {},
   "outputs": [],
   "source": [
    "import json\n",
    "import tqdm\n",
    "from datasets import load_dataset\n",
    "\n",
    "# Параметры\n",
    "BATCH_SIZE = 1000\n",
    "\n",
    "# Загрузка датасета\n",
    "ds = load_dataset(\"wikimedia/wikipedia\", \"20231101.en\")\n",
    "\n",
    "# Инициализация временных списков для батчей\n",
    "batch_ids = []\n",
    "batch_payloads = []\n",
    "batch_vectors = []\n",
    "\n",
    "# Чтение большого файла построчно и загрузка в базу данных\n",
    "with open('C:/Users/Profe/OneDrive/Документы/embeddings2.json', 'r') as file:\n",
    "    for index, line in tqdm.tqdm(enumerate(file)):\n",
    "        # Парсинг JSON-строки\n",
    "        print(line)\n",
    "        continue\n",
    "        entry = json.loads(line.strip().rstrip(\",\").lstrip('['))\n",
    "        data = ds['train'][index]\n",
    "\n",
    "        # Добавляем данные в текущий батч\n",
    "        batch_ids.append(int(10e9) + index)\n",
    "        batch_payloads.append({\n",
    "            \"text\": data['text'],\n",
    "            \"my_metadata\": {\n",
    "                \"source\": data['url'],\n",
    "                \"title\": data['title']\n",
    "            }\n",
    "        })\n",
    "        batch_vectors.append(entry[\"vector\"])\n",
    "\n",
    "        # Если батч заполнен, делаем загрузку в базу данных\n",
    "        if (index + 1) % BATCH_SIZE == 0:\n",
    "            client.upsert(\n",
    "                collection_name=COLLECTION_NAME,\n",
    "                points=models.Batch(\n",
    "                    ids=batch_ids,\n",
    "                    payloads=batch_payloads,\n",
    "                    vectors=batch_vectors,\n",
    "                ),\n",
    "            )\n",
    "            # Очищаем временные списки для следующего батча\n",
    "            batch_ids.clear()\n",
    "            batch_payloads.clear()\n",
    "            batch_vectors.clear()\n",
    "\n",
    "    # Загрузка оставшихся данных (если общее количество записей не кратно BATCH_SIZE)\n",
    "    if batch_ids:\n",
    "        client.upsert(\n",
    "            collection_name=COLLECTION_NAME,\n",
    "            points=models.Batch(\n",
    "                ids=batch_ids,\n",
    "                payloads=batch_payloads,\n",
    "                vectors=batch_vectors,\n",
    "\n",
    "            ),\n",
    "        )\n"
   ]
  },
  {
   "cell_type": "code",
   "execution_count": 39,
   "metadata": {},
   "outputs": [],
   "source": [
    "from qdrant_client import QdrantClient\n",
    "\n",
    "# Получение списка всех коллекций\n",
    "collections = client.get_collections().collections\n",
    "\n",
    "# Удаление всех коллекций\n",
    "for collection in collections:\n",
    "    client.delete_collection(collection.name)\n",
    "    print(f\"Коллекция '{collection.name}' удалена\")\n"
   ]
  },
  {
   "cell_type": "code",
   "execution_count": 31,
   "metadata": {},
   "outputs": [
    {
     "data": {
      "text/plain": [
       "6407814"
      ]
     },
     "execution_count": 31,
     "metadata": {},
     "output_type": "execute_result"
    }
   ],
   "source": [
    "len(ds['train']['id'])"
   ]
  },
  {
   "cell_type": "code",
   "execution_count": 36,
   "metadata": {},
   "outputs": [
    {
     "name": "stderr",
     "output_type": "stream",
     "text": [
      "0it [00:00, ?it/s]"
     ]
    },
    {
     "name": "stdout",
     "output_type": "stream",
     "text": [
      "1024\n"
     ]
    },
    {
     "name": "stderr",
     "output_type": "stream",
     "text": [
      "\n"
     ]
    },
    {
     "ename": "IndexError",
     "evalue": "list index out of range",
     "output_type": "error",
     "traceback": [
      "\u001b[1;31m---------------------------------------------------------------------------\u001b[0m",
      "\u001b[1;31mIndexError\u001b[0m                                Traceback (most recent call last)",
      "Cell \u001b[1;32mIn[36], line 62\u001b[0m\n\u001b[0;32m     60\u001b[0m \u001b[38;5;66;03m# Загрузка оставшихся данных (если общее количество записей не кратно BATCH_SIZE)\u001b[39;00m\n\u001b[0;32m     61\u001b[0m \u001b[38;5;28;01mif\u001b[39;00m batch_ids:\n\u001b[1;32m---> 62\u001b[0m     \u001b[43mclient\u001b[49m\u001b[38;5;241;43m.\u001b[39;49m\u001b[43mupsert\u001b[49m\u001b[43m(\u001b[49m\n\u001b[0;32m     63\u001b[0m \u001b[43m        \u001b[49m\u001b[43mcollection_name\u001b[49m\u001b[38;5;241;43m=\u001b[39;49m\u001b[43mCOLLECTION_NAME\u001b[49m\u001b[43m,\u001b[49m\n\u001b[0;32m     64\u001b[0m \u001b[43m        \u001b[49m\u001b[43mpoints\u001b[49m\u001b[38;5;241;43m=\u001b[39;49m\u001b[43mmodels\u001b[49m\u001b[38;5;241;43m.\u001b[39;49m\u001b[43mBatch\u001b[49m\u001b[43m(\u001b[49m\n\u001b[0;32m     65\u001b[0m \u001b[43m            \u001b[49m\u001b[43mids\u001b[49m\u001b[38;5;241;43m=\u001b[39;49m\u001b[43mbatch_ids\u001b[49m\u001b[43m,\u001b[49m\n\u001b[0;32m     66\u001b[0m \u001b[43m            \u001b[49m\u001b[43mpayloads\u001b[49m\u001b[38;5;241;43m=\u001b[39;49m\u001b[43mbatch_payloads\u001b[49m\u001b[43m,\u001b[49m\n\u001b[0;32m     67\u001b[0m \u001b[43m            \u001b[49m\u001b[43mvectors\u001b[49m\u001b[38;5;241;43m=\u001b[39;49m\u001b[43mbatch_vectors\u001b[49m\u001b[43m,\u001b[49m\n\u001b[0;32m     68\u001b[0m \n\u001b[0;32m     69\u001b[0m \u001b[43m        \u001b[49m\u001b[43m)\u001b[49m\u001b[43m,\u001b[49m\n\u001b[0;32m     70\u001b[0m \u001b[43m    \u001b[49m\u001b[43m)\u001b[49m\n",
      "File \u001b[1;32mc:\\Users\\Profe\\.virtualenvs\\code-uVaVH2Jt\\lib\\site-packages\\qdrant_client\\qdrant_client.py:1508\u001b[0m, in \u001b[0;36mQdrantClient.upsert\u001b[1;34m(self, collection_name, points, wait, ordering, shard_key_selector, **kwargs)\u001b[0m\n\u001b[0;32m   1480\u001b[0m \u001b[38;5;250m\u001b[39m\u001b[38;5;124;03m\"\"\"\u001b[39;00m\n\u001b[0;32m   1481\u001b[0m \u001b[38;5;124;03mUpdate or insert a new point into the collection.\u001b[39;00m\n\u001b[0;32m   1482\u001b[0m \n\u001b[1;32m   (...)\u001b[0m\n\u001b[0;32m   1504\u001b[0m \u001b[38;5;124;03m    Operation Result(UpdateResult)\u001b[39;00m\n\u001b[0;32m   1505\u001b[0m \u001b[38;5;124;03m\"\"\"\u001b[39;00m\n\u001b[0;32m   1506\u001b[0m \u001b[38;5;28;01massert\u001b[39;00m \u001b[38;5;28mlen\u001b[39m(kwargs) \u001b[38;5;241m==\u001b[39m \u001b[38;5;241m0\u001b[39m, \u001b[38;5;124mf\u001b[39m\u001b[38;5;124m\"\u001b[39m\u001b[38;5;124mUnknown arguments: \u001b[39m\u001b[38;5;132;01m{\u001b[39;00m\u001b[38;5;28mlist\u001b[39m(kwargs\u001b[38;5;241m.\u001b[39mkeys())\u001b[38;5;132;01m}\u001b[39;00m\u001b[38;5;124m\"\u001b[39m\n\u001b[1;32m-> 1508\u001b[0m \u001b[38;5;28;01mreturn\u001b[39;00m \u001b[38;5;28mself\u001b[39m\u001b[38;5;241m.\u001b[39m_client\u001b[38;5;241m.\u001b[39mupsert(\n\u001b[0;32m   1509\u001b[0m     collection_name\u001b[38;5;241m=\u001b[39mcollection_name,\n\u001b[0;32m   1510\u001b[0m     points\u001b[38;5;241m=\u001b[39mpoints,\n\u001b[0;32m   1511\u001b[0m     wait\u001b[38;5;241m=\u001b[39mwait,\n\u001b[0;32m   1512\u001b[0m     ordering\u001b[38;5;241m=\u001b[39mordering,\n\u001b[0;32m   1513\u001b[0m     shard_key_selector\u001b[38;5;241m=\u001b[39mshard_key_selector,\n\u001b[0;32m   1514\u001b[0m     \u001b[38;5;241m*\u001b[39m\u001b[38;5;241m*\u001b[39mkwargs,\n\u001b[0;32m   1515\u001b[0m )\n",
      "File \u001b[1;32mc:\\Users\\Profe\\.virtualenvs\\code-uVaVH2Jt\\lib\\site-packages\\qdrant_client\\local\\qdrant_local.py:770\u001b[0m, in \u001b[0;36mQdrantLocal.upsert\u001b[1;34m(self, collection_name, points, **kwargs)\u001b[0m\n\u001b[0;32m    766\u001b[0m \u001b[38;5;28;01mdef\u001b[39;00m \u001b[38;5;21mupsert\u001b[39m(\n\u001b[0;32m    767\u001b[0m     \u001b[38;5;28mself\u001b[39m, collection_name: \u001b[38;5;28mstr\u001b[39m, points: types\u001b[38;5;241m.\u001b[39mPoints, \u001b[38;5;241m*\u001b[39m\u001b[38;5;241m*\u001b[39mkwargs: Any\n\u001b[0;32m    768\u001b[0m ) \u001b[38;5;241m-\u001b[39m\u001b[38;5;241m>\u001b[39m types\u001b[38;5;241m.\u001b[39mUpdateResult:\n\u001b[0;32m    769\u001b[0m     collection \u001b[38;5;241m=\u001b[39m \u001b[38;5;28mself\u001b[39m\u001b[38;5;241m.\u001b[39m_get_collection(collection_name)\n\u001b[1;32m--> 770\u001b[0m     \u001b[43mcollection\u001b[49m\u001b[38;5;241;43m.\u001b[39;49m\u001b[43mupsert\u001b[49m\u001b[43m(\u001b[49m\u001b[43mpoints\u001b[49m\u001b[43m)\u001b[49m\n\u001b[0;32m    771\u001b[0m     \u001b[38;5;28;01mreturn\u001b[39;00m \u001b[38;5;28mself\u001b[39m\u001b[38;5;241m.\u001b[39m_default_update_result()\n",
      "File \u001b[1;32mc:\\Users\\Profe\\.virtualenvs\\code-uVaVH2Jt\\lib\\site-packages\\qdrant_client\\local\\local_collection.py:2178\u001b[0m, in \u001b[0;36mLocalCollection.upsert\u001b[1;34m(self, points)\u001b[0m\n\u001b[0;32m   2175\u001b[0m         \u001b[38;5;28;01mif\u001b[39;00m batch\u001b[38;5;241m.\u001b[39mpayloads \u001b[38;5;129;01mis\u001b[39;00m \u001b[38;5;129;01mnot\u001b[39;00m \u001b[38;5;28;01mNone\u001b[39;00m:\n\u001b[0;32m   2176\u001b[0m             payload \u001b[38;5;241m=\u001b[39m batch\u001b[38;5;241m.\u001b[39mpayloads[idx]\n\u001b[1;32m-> 2178\u001b[0m         vector \u001b[38;5;241m=\u001b[39m {name: v[idx] \u001b[38;5;28;01mfor\u001b[39;00m name, v \u001b[38;5;129;01min\u001b[39;00m vectors\u001b[38;5;241m.\u001b[39mitems()}\n\u001b[0;32m   2180\u001b[0m         \u001b[38;5;28mself\u001b[39m\u001b[38;5;241m.\u001b[39m_upsert_point(\n\u001b[0;32m   2181\u001b[0m             models\u001b[38;5;241m.\u001b[39mPointStruct(\n\u001b[0;32m   2182\u001b[0m                 \u001b[38;5;28mid\u001b[39m\u001b[38;5;241m=\u001b[39mpoint_id,\n\u001b[1;32m   (...)\u001b[0m\n\u001b[0;32m   2185\u001b[0m             )\n\u001b[0;32m   2186\u001b[0m         )\n\u001b[0;32m   2187\u001b[0m \u001b[38;5;28;01melse\u001b[39;00m:\n",
      "File \u001b[1;32mc:\\Users\\Profe\\.virtualenvs\\code-uVaVH2Jt\\lib\\site-packages\\qdrant_client\\local\\local_collection.py:2178\u001b[0m, in \u001b[0;36m<dictcomp>\u001b[1;34m(.0)\u001b[0m\n\u001b[0;32m   2175\u001b[0m         \u001b[38;5;28;01mif\u001b[39;00m batch\u001b[38;5;241m.\u001b[39mpayloads \u001b[38;5;129;01mis\u001b[39;00m \u001b[38;5;129;01mnot\u001b[39;00m \u001b[38;5;28;01mNone\u001b[39;00m:\n\u001b[0;32m   2176\u001b[0m             payload \u001b[38;5;241m=\u001b[39m batch\u001b[38;5;241m.\u001b[39mpayloads[idx]\n\u001b[1;32m-> 2178\u001b[0m         vector \u001b[38;5;241m=\u001b[39m {name: \u001b[43mv\u001b[49m\u001b[43m[\u001b[49m\u001b[43midx\u001b[49m\u001b[43m]\u001b[49m \u001b[38;5;28;01mfor\u001b[39;00m name, v \u001b[38;5;129;01min\u001b[39;00m vectors\u001b[38;5;241m.\u001b[39mitems()}\n\u001b[0;32m   2180\u001b[0m         \u001b[38;5;28mself\u001b[39m\u001b[38;5;241m.\u001b[39m_upsert_point(\n\u001b[0;32m   2181\u001b[0m             models\u001b[38;5;241m.\u001b[39mPointStruct(\n\u001b[0;32m   2182\u001b[0m                 \u001b[38;5;28mid\u001b[39m\u001b[38;5;241m=\u001b[39mpoint_id,\n\u001b[1;32m   (...)\u001b[0m\n\u001b[0;32m   2185\u001b[0m             )\n\u001b[0;32m   2186\u001b[0m         )\n\u001b[0;32m   2187\u001b[0m \u001b[38;5;28;01melse\u001b[39;00m:\n",
      "\u001b[1;31mIndexError\u001b[0m: list index out of range"
     ]
    }
   ],
   "source": [
    "import json\n",
    "import tqdm\n",
    "from datasets import load_dataset\n",
    "\n",
    "# Параметры\n",
    "BATCH_SIZE = 1000\n",
    "LOWER_BOUND = 0\n",
    "UPPER_BOUND = 2_000_000\n",
    "\n",
    "# Загрузка датасета\n",
    "ds = load_dataset(\"wikimedia/wikipedia\", \"20231101.en\")\n",
    "\n",
    "# Инициализация временных списков для батчей\n",
    "batch_ids = []\n",
    "batch_payloads = []\n",
    "batch_vectors = []\n",
    "\n",
    "\n",
    "# Чтение большого файла построчно и загрузка в базу данных\n",
    "with open('C:/Users/Profe/OneDrive/Документы/embeddings.json.filepart', 'r') as file:\n",
    "    for index, line in tqdm.tqdm(enumerate(file)):\n",
    "        if index > UPPER_BOUND:\n",
    "            break\n",
    "        elif index < LOWER_BOUND:\n",
    "            continue\n",
    "        # Парсинг JSON-строки\n",
    "        entry = json.loads(line.strip().rstrip(\",\").lstrip('['))\n",
    "        data = ds['train'][index]\n",
    "\n",
    "        # Добавляем данные в текущий батч\n",
    "        batch_ids.append(int(10e9) + int(entry['id']))\n",
    "        batch_payloads.append({\n",
    "            \"text\": data['text'],\n",
    "            \"my_metadata\": {\n",
    "                \"source\": data['url'],\n",
    "                \"title\": data['title']\n",
    "            }\n",
    "        })\n",
    "        print(len(entry[\"vector\"]))\n",
    "        break\n",
    "        if len(entry[\"vector\"]) != 1024:\n",
    "            break\n",
    "        batch_vectors.append(entry[\"vector\"])\n",
    "\n",
    "        # Если батч заполнен, делаем загрузку в базу данных\n",
    "        if (index + 1) % BATCH_SIZE == 0:\n",
    "            client.upsert(\n",
    "                collection_name=COLLECTION_NAME,\n",
    "                points=models.Batch(\n",
    "                    ids=batch_ids,\n",
    "                    payloads=batch_payloads,\n",
    "                    vectors=batch_vectors,\n",
    "                ),\n",
    "            )\n",
    "            # Очищаем временные списки для следующего батча\n",
    "            batch_ids.clear()\n",
    "            batch_payloads.clear()\n",
    "            batch_vectors.clear()\n",
    "\n",
    "    # Загрузка оставшихся данных (если общее количество записей не кратно BATCH_SIZE)\n",
    "    if batch_ids:\n",
    "        client.upsert(\n",
    "            collection_name=COLLECTION_NAME,\n",
    "            points=models.Batch(\n",
    "                ids=batch_ids,\n",
    "                payloads=batch_payloads,\n",
    "                vectors=batch_vectors,\n",
    "\n",
    "            ),\n",
    "        )"
   ]
  },
  {
   "cell_type": "code",
   "execution_count": 12,
   "metadata": {},
   "outputs": [
    {
     "name": "stderr",
     "output_type": "stream",
     "text": [
      "Fetching 29 files:   0%|          | 0/29 [00:00<?, ?it/s]c:\\Users\\Profe\\.virtualenvs\\code-uVaVH2Jt\\lib\\site-packages\\huggingface_hub\\file_download.py:139: UserWarning: `huggingface_hub` cache-system uses symlinks by default to efficiently store duplicated files but your machine does not support them in C:\\Users\\Profe\\AppData\\Local\\Temp\\fastembed_cache\\models--Qdrant--bm25. Caching files will still work but in a degraded version that might require more space on your disk. This warning can be disabled by setting the `HF_HUB_DISABLE_SYMLINKS_WARNING` environment variable. For more details, see https://huggingface.co/docs/huggingface_hub/how-to-cache#limitations.\n",
      "To support symlinks on Windows, you either need to activate Developer Mode or to run Python as an administrator. In order to activate developer mode, see this article: https://docs.microsoft.com/en-us/windows/apps/get-started/enable-your-device-for-development\n",
      "  warnings.warn(message)\n",
      "Fetching 29 files: 100%|██████████| 29/29 [00:01<00:00, 16.36it/s]\n"
     ]
    }
   ],
   "source": [
    "from fastembed import SparseTextEmbedding\n",
    "\n",
    "documents = [\n",
    "    \"You should stay, study and sprint.\",\n",
    "    \"History can only prepare us to be surprised yet again.\",\n",
    "]\n",
    "\n",
    "model = SparseTextEmbedding(model_name=\"Qdrant/bm25\")\n",
    "embeddings = list(model.embed(documents))\n",
    "\n",
    "# [\n",
    "#     SparseEmbedding(\n",
    "#         values=array([1.67419738, 1.67419738, 1.67419738, 1.67419738]),\n",
    "#         indices=array([171321964, 1881538586, 150760872, 1932363795])),\n",
    "#     SparseEmbedding(values=array(\n",
    "#         [1.66973021, 1.66973021, 1.66973021, 1.66973021, 1.66973021]),\n",
    "#                     indices=array([\n",
    "#                         578407224, 1849833631, 1008800696, 2090661150,\n",
    "#                         1117393019\n",
    "#                     ]))\n",
    "# ]\n"
   ]
  },
  {
   "cell_type": "code",
   "execution_count": 13,
   "metadata": {},
   "outputs": [
    {
     "data": {
      "text/plain": [
       "[SparseEmbedding(values=array([1.67868852, 1.67868852, 1.67868852]), indices=array([1881538586,  150760872, 1932363795])),\n",
       " SparseEmbedding(values=array([1.66973021, 1.66973021, 1.66973021, 1.66973021, 1.66973021]), indices=array([ 733618285, 1849833631, 1008800696, 2090661150, 1117393019]))]"
      ]
     },
     "execution_count": 13,
     "metadata": {},
     "output_type": "execute_result"
    }
   ],
   "source": [
    "embeddings"
   ]
  },
  {
   "cell_type": "code",
   "execution_count": 1,
   "metadata": {},
   "outputs": [],
   "source": [
    "from langchain_community.embeddings import HuggingFaceEmbeddings"
   ]
  }
 ],
 "metadata": {
  "kernelspec": {
   "display_name": "Python 3 (ipykernel)",
   "language": "python",
   "name": "python3"
  },
  "language_info": {
   "codemirror_mode": {
    "name": "ipython",
    "version": 3
   },
   "file_extension": ".py",
   "mimetype": "text/x-python",
   "name": "python",
   "nbconvert_exporter": "python",
   "pygments_lexer": "ipython3",
   "version": "3.8.10"
  }
 },
 "nbformat": 4,
 "nbformat_minor": 4
}
